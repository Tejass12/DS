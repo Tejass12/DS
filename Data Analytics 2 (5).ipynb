{
 "cells": [
  {
   "cell_type": "markdown",
   "id": "148d9c29",
   "metadata": {},
   "source": [
    "# Assignment-5 Data Analytics II\n",
    "1. Implement logistic regression using Python/R to perform classification on Social_Network_Ads.csv dataset.\n",
    "2. Compute Confusion matrix to find TP, FP, TN, FN, Accuracy, Error rate, Precision, Recall on the given dataset."
   ]
  },
  {
   "cell_type": "code",
   "execution_count": 3,
   "id": "d09d9738",
   "metadata": {},
   "outputs": [],
   "source": [
    "import numpy as np\n",
    "import pandas as pd\n",
    "import seaborn as sns\n",
    "import matplotlib.pyplot as plt\n",
    "from sklearn.model_selection import train_test_split\n",
    "from sklearn.linear_model import LogisticRegression\n",
    "from sklearn.preprocessing import StandardScaler\n",
    "from sklearn.metrics import confusion_matrix\n",
    "from sklearn.metrics import classification_report\n",
    "from sklearn.metrics import accuracy_score"
   ]
  },
  {
   "cell_type": "code",
   "execution_count": 4,
   "id": "172474d1",
   "metadata": {},
   "outputs": [],
   "source": [
    "data=pd.read_csv(\"Social_Network_Ads.csv\")"
   ]
  },
  {
   "cell_type": "code",
   "execution_count": 5,
   "id": "3f667ce7",
   "metadata": {},
   "outputs": [
    {
     "data": {
      "text/html": [
       "<div>\n",
       "<style scoped>\n",
       "    .dataframe tbody tr th:only-of-type {\n",
       "        vertical-align: middle;\n",
       "    }\n",
       "\n",
       "    .dataframe tbody tr th {\n",
       "        vertical-align: top;\n",
       "    }\n",
       "\n",
       "    .dataframe thead th {\n",
       "        text-align: right;\n",
       "    }\n",
       "</style>\n",
       "<table border=\"1\" class=\"dataframe\">\n",
       "  <thead>\n",
       "    <tr style=\"text-align: right;\">\n",
       "      <th></th>\n",
       "      <th>Age</th>\n",
       "      <th>EstimatedSalary</th>\n",
       "      <th>Purchased</th>\n",
       "    </tr>\n",
       "  </thead>\n",
       "  <tbody>\n",
       "    <tr>\n",
       "      <th>0</th>\n",
       "      <td>19</td>\n",
       "      <td>19000</td>\n",
       "      <td>0</td>\n",
       "    </tr>\n",
       "    <tr>\n",
       "      <th>1</th>\n",
       "      <td>35</td>\n",
       "      <td>20000</td>\n",
       "      <td>0</td>\n",
       "    </tr>\n",
       "    <tr>\n",
       "      <th>2</th>\n",
       "      <td>26</td>\n",
       "      <td>43000</td>\n",
       "      <td>0</td>\n",
       "    </tr>\n",
       "    <tr>\n",
       "      <th>3</th>\n",
       "      <td>27</td>\n",
       "      <td>57000</td>\n",
       "      <td>0</td>\n",
       "    </tr>\n",
       "    <tr>\n",
       "      <th>4</th>\n",
       "      <td>19</td>\n",
       "      <td>76000</td>\n",
       "      <td>0</td>\n",
       "    </tr>\n",
       "    <tr>\n",
       "      <th>...</th>\n",
       "      <td>...</td>\n",
       "      <td>...</td>\n",
       "      <td>...</td>\n",
       "    </tr>\n",
       "    <tr>\n",
       "      <th>395</th>\n",
       "      <td>46</td>\n",
       "      <td>41000</td>\n",
       "      <td>1</td>\n",
       "    </tr>\n",
       "    <tr>\n",
       "      <th>396</th>\n",
       "      <td>51</td>\n",
       "      <td>23000</td>\n",
       "      <td>1</td>\n",
       "    </tr>\n",
       "    <tr>\n",
       "      <th>397</th>\n",
       "      <td>50</td>\n",
       "      <td>20000</td>\n",
       "      <td>1</td>\n",
       "    </tr>\n",
       "    <tr>\n",
       "      <th>398</th>\n",
       "      <td>36</td>\n",
       "      <td>33000</td>\n",
       "      <td>0</td>\n",
       "    </tr>\n",
       "    <tr>\n",
       "      <th>399</th>\n",
       "      <td>49</td>\n",
       "      <td>36000</td>\n",
       "      <td>1</td>\n",
       "    </tr>\n",
       "  </tbody>\n",
       "</table>\n",
       "<p>400 rows × 3 columns</p>\n",
       "</div>"
      ],
      "text/plain": [
       "     Age  EstimatedSalary  Purchased\n",
       "0     19            19000          0\n",
       "1     35            20000          0\n",
       "2     26            43000          0\n",
       "3     27            57000          0\n",
       "4     19            76000          0\n",
       "..   ...              ...        ...\n",
       "395   46            41000          1\n",
       "396   51            23000          1\n",
       "397   50            20000          1\n",
       "398   36            33000          0\n",
       "399   49            36000          1\n",
       "\n",
       "[400 rows x 3 columns]"
      ]
     },
     "execution_count": 5,
     "metadata": {},
     "output_type": "execute_result"
    }
   ],
   "source": [
    "data"
   ]
  },
  {
   "cell_type": "code",
   "execution_count": 6,
   "id": "a367d903",
   "metadata": {},
   "outputs": [
    {
     "data": {
      "text/html": [
       "<div>\n",
       "<style scoped>\n",
       "    .dataframe tbody tr th:only-of-type {\n",
       "        vertical-align: middle;\n",
       "    }\n",
       "\n",
       "    .dataframe tbody tr th {\n",
       "        vertical-align: top;\n",
       "    }\n",
       "\n",
       "    .dataframe thead th {\n",
       "        text-align: right;\n",
       "    }\n",
       "</style>\n",
       "<table border=\"1\" class=\"dataframe\">\n",
       "  <thead>\n",
       "    <tr style=\"text-align: right;\">\n",
       "      <th></th>\n",
       "      <th>Age</th>\n",
       "      <th>EstimatedSalary</th>\n",
       "      <th>Purchased</th>\n",
       "    </tr>\n",
       "  </thead>\n",
       "  <tbody>\n",
       "    <tr>\n",
       "      <th>0</th>\n",
       "      <td>19</td>\n",
       "      <td>19000</td>\n",
       "      <td>0</td>\n",
       "    </tr>\n",
       "    <tr>\n",
       "      <th>1</th>\n",
       "      <td>35</td>\n",
       "      <td>20000</td>\n",
       "      <td>0</td>\n",
       "    </tr>\n",
       "    <tr>\n",
       "      <th>2</th>\n",
       "      <td>26</td>\n",
       "      <td>43000</td>\n",
       "      <td>0</td>\n",
       "    </tr>\n",
       "    <tr>\n",
       "      <th>3</th>\n",
       "      <td>27</td>\n",
       "      <td>57000</td>\n",
       "      <td>0</td>\n",
       "    </tr>\n",
       "    <tr>\n",
       "      <th>4</th>\n",
       "      <td>19</td>\n",
       "      <td>76000</td>\n",
       "      <td>0</td>\n",
       "    </tr>\n",
       "  </tbody>\n",
       "</table>\n",
       "</div>"
      ],
      "text/plain": [
       "   Age  EstimatedSalary  Purchased\n",
       "0   19            19000          0\n",
       "1   35            20000          0\n",
       "2   26            43000          0\n",
       "3   27            57000          0\n",
       "4   19            76000          0"
      ]
     },
     "execution_count": 6,
     "metadata": {},
     "output_type": "execute_result"
    }
   ],
   "source": [
    "data.head()"
   ]
  },
  {
   "cell_type": "code",
   "execution_count": 7,
   "id": "7ee0f53d",
   "metadata": {},
   "outputs": [
    {
     "data": {
      "text/plain": [
       "Age                int64\n",
       "EstimatedSalary    int64\n",
       "Purchased          int64\n",
       "dtype: object"
      ]
     },
     "execution_count": 7,
     "metadata": {},
     "output_type": "execute_result"
    }
   ],
   "source": [
    "data.dtypes"
   ]
  },
  {
   "cell_type": "code",
   "execution_count": 8,
   "id": "581d2a8e",
   "metadata": {},
   "outputs": [
    {
     "name": "stdout",
     "output_type": "stream",
     "text": [
      "<class 'pandas.core.frame.DataFrame'>\n",
      "RangeIndex: 400 entries, 0 to 399\n",
      "Data columns (total 3 columns):\n",
      " #   Column           Non-Null Count  Dtype\n",
      "---  ------           --------------  -----\n",
      " 0   Age              400 non-null    int64\n",
      " 1   EstimatedSalary  400 non-null    int64\n",
      " 2   Purchased        400 non-null    int64\n",
      "dtypes: int64(3)\n",
      "memory usage: 9.5 KB\n"
     ]
    }
   ],
   "source": [
    "data.info()"
   ]
  },
  {
   "cell_type": "code",
   "execution_count": 9,
   "id": "c2fd1dbc",
   "metadata": {},
   "outputs": [
    {
     "data": {
      "text/html": [
       "<div>\n",
       "<style scoped>\n",
       "    .dataframe tbody tr th:only-of-type {\n",
       "        vertical-align: middle;\n",
       "    }\n",
       "\n",
       "    .dataframe tbody tr th {\n",
       "        vertical-align: top;\n",
       "    }\n",
       "\n",
       "    .dataframe thead th {\n",
       "        text-align: right;\n",
       "    }\n",
       "</style>\n",
       "<table border=\"1\" class=\"dataframe\">\n",
       "  <thead>\n",
       "    <tr style=\"text-align: right;\">\n",
       "      <th></th>\n",
       "      <th>Age</th>\n",
       "      <th>EstimatedSalary</th>\n",
       "      <th>Purchased</th>\n",
       "    </tr>\n",
       "  </thead>\n",
       "  <tbody>\n",
       "    <tr>\n",
       "      <th>count</th>\n",
       "      <td>400.000000</td>\n",
       "      <td>400.000000</td>\n",
       "      <td>400.000000</td>\n",
       "    </tr>\n",
       "    <tr>\n",
       "      <th>mean</th>\n",
       "      <td>37.655000</td>\n",
       "      <td>69742.500000</td>\n",
       "      <td>0.357500</td>\n",
       "    </tr>\n",
       "    <tr>\n",
       "      <th>std</th>\n",
       "      <td>10.482877</td>\n",
       "      <td>34096.960282</td>\n",
       "      <td>0.479864</td>\n",
       "    </tr>\n",
       "    <tr>\n",
       "      <th>min</th>\n",
       "      <td>18.000000</td>\n",
       "      <td>15000.000000</td>\n",
       "      <td>0.000000</td>\n",
       "    </tr>\n",
       "    <tr>\n",
       "      <th>25%</th>\n",
       "      <td>29.750000</td>\n",
       "      <td>43000.000000</td>\n",
       "      <td>0.000000</td>\n",
       "    </tr>\n",
       "    <tr>\n",
       "      <th>50%</th>\n",
       "      <td>37.000000</td>\n",
       "      <td>70000.000000</td>\n",
       "      <td>0.000000</td>\n",
       "    </tr>\n",
       "    <tr>\n",
       "      <th>75%</th>\n",
       "      <td>46.000000</td>\n",
       "      <td>88000.000000</td>\n",
       "      <td>1.000000</td>\n",
       "    </tr>\n",
       "    <tr>\n",
       "      <th>max</th>\n",
       "      <td>60.000000</td>\n",
       "      <td>150000.000000</td>\n",
       "      <td>1.000000</td>\n",
       "    </tr>\n",
       "  </tbody>\n",
       "</table>\n",
       "</div>"
      ],
      "text/plain": [
       "              Age  EstimatedSalary   Purchased\n",
       "count  400.000000       400.000000  400.000000\n",
       "mean    37.655000     69742.500000    0.357500\n",
       "std     10.482877     34096.960282    0.479864\n",
       "min     18.000000     15000.000000    0.000000\n",
       "25%     29.750000     43000.000000    0.000000\n",
       "50%     37.000000     70000.000000    0.000000\n",
       "75%     46.000000     88000.000000    1.000000\n",
       "max     60.000000    150000.000000    1.000000"
      ]
     },
     "execution_count": 9,
     "metadata": {},
     "output_type": "execute_result"
    }
   ],
   "source": [
    "data.describe()"
   ]
  },
  {
   "cell_type": "code",
   "execution_count": 10,
   "id": "746370ee",
   "metadata": {},
   "outputs": [
    {
     "data": {
      "text/plain": [
       "(400, 3)"
      ]
     },
     "execution_count": 10,
     "metadata": {},
     "output_type": "execute_result"
    }
   ],
   "source": [
    "data.shape"
   ]
  },
  {
   "cell_type": "code",
   "execution_count": 11,
   "id": "0f456abe",
   "metadata": {},
   "outputs": [
    {
     "data": {
      "text/plain": [
       "Age                0\n",
       "EstimatedSalary    0\n",
       "Purchased          0\n",
       "dtype: int64"
      ]
     },
     "execution_count": 11,
     "metadata": {},
     "output_type": "execute_result"
    }
   ],
   "source": [
    "data.isnull().sum()"
   ]
  },
  {
   "cell_type": "code",
   "execution_count": 12,
   "id": "c595aa0c",
   "metadata": {},
   "outputs": [
    {
     "data": {
      "text/plain": [
       "<AxesSubplot:>"
      ]
     },
     "execution_count": 12,
     "metadata": {},
     "output_type": "execute_result"
    },
    {
     "data": {
      "image/png": "[encoded data removed]",
      "text/plain": [
       "<Figure size 432x288 with 1 Axes>"
      ]
     },
     "metadata": {
      "needs_background": "light"
     },
     "output_type": "display_data"
    }
   ],
   "source": [
    "data.plot()"
   ]
  },
  {
   "cell_type": "code",
   "execution_count": 13,
   "id": "57c2d241",
   "metadata": {},
   "outputs": [],
   "source": [
    "col=['Age','EstimatedSalary']"
   ]
  },
  {
   "cell_type": "code",
   "execution_count": 14,
   "id": "51474221",
   "metadata": {},
   "outputs": [
    {
     "data": {
      "text/plain": [
       "<AxesSubplot:>"
      ]
     },
     "execution_count": 14,
     "metadata": {},
     "output_type": "execute_result"
    },
    {
     "data": {
      "image/png": "[encoded data removed]",
      "text/plain": [
       "<Figure size 432x288 with 1 Axes>"
      ]
     },
     "metadata": {
      "needs_background": "light"
     },
     "output_type": "display_data"
    }
   ],
   "source": [
    "data.boxplot(col)"
   ]
  },
  {
   "cell_type": "code",
   "execution_count": 15,
   "id": "7c17b66b",
   "metadata": {},
   "outputs": [
    {
     "name": "stderr",
     "output_type": "stream",
     "text": [
      "C:\\Users\\Admin\\anaconda3\\lib\\site-packages\\seaborn\\distributions.py:2619: FutureWarning: `distplot` is a deprecated function and will be removed in a future version. Please adapt your code to use either `displot` (a figure-level function with similar flexibility) or `histplot` (an axes-level function for histograms).\n",
      "  warnings.warn(msg, FutureWarning)\n"
     ]
    },
    {
     "data": {
      "text/plain": [
       "<AxesSubplot:xlabel='Age', ylabel='Density'>"
      ]
     },
     "execution_count": 15,
     "metadata": {},
     "output_type": "execute_result"
    },
    {
     "data": {
      "image/png": "[encoded data removed]",
      "text/plain": [
       "<Figure size 432x288 with 1 Axes>"
      ]
     },
     "metadata": {
      "needs_background": "light"
     },
     "output_type": "display_data"
    }
   ],
   "source": [
    "sns.distplot(data['Age'])"
   ]
  },
  {
   "cell_type": "code",
   "execution_count": 16,
   "id": "0b78fc98",
   "metadata": {},
   "outputs": [
    {
     "name": "stderr",
     "output_type": "stream",
     "text": [
      "C:\\Users\\Admin\\anaconda3\\lib\\site-packages\\seaborn\\distributions.py:2619: FutureWarning: `distplot` is a deprecated function and will be removed in a future version. Please adapt your code to use either `displot` (a figure-level function with similar flexibility) or `histplot` (an axes-level function for histograms).\n",
      "  warnings.warn(msg, FutureWarning)\n"
     ]
    },
    {
     "data": {
      "text/plain": [
       "<AxesSubplot:xlabel='EstimatedSalary', ylabel='Density'>"
      ]
     },
     "execution_count": 16,
     "metadata": {},
     "output_type": "execute_result"
    },
    {
     "data": {
      "image/png": "[encoded data removed]",
      "text/plain": [
       "<Figure size 432x288 with 1 Axes>"
      ]
     },
     "metadata": {
      "needs_background": "light"
     },
     "output_type": "display_data"
    }
   ],
   "source": [
    "sns.distplot(data['EstimatedSalary'])"
   ]
  },
  {
   "cell_type": "code",
   "execution_count": 17,
   "id": "5172d317",
   "metadata": {},
   "outputs": [],
   "source": [
    "X=data.drop(['Purchased'],axis=1)\n",
    "y=data['Purchased']\n",
    "X_train, X_test, y_train, y_test = train_test_split(X, y, test_size = 0.20, random_state=10)"
   ]
  },
  {
   "cell_type": "code",
   "execution_count": 18,
   "id": "0d994dd5",
   "metadata": {},
   "outputs": [
    {
     "name": "stdout",
     "output_type": "stream",
     "text": [
      "(320, 2)\n",
      "(80, 2)\n",
      "(320,)\n",
      "(80,)\n"
     ]
    }
   ],
   "source": [
    "print(X_train.shape)\n",
    "print(X_test.shape)\n",
    "print(y_train.shape)\n",
    "print(y_test.shape)"
   ]
  },
  {
   "cell_type": "code",
   "execution_count": 19,
   "id": "35f71f82",
   "metadata": {},
   "outputs": [],
   "source": [
    "# Create an instance of the StandardScaler class\n",
    "scaler = StandardScaler()\n",
    "\n",
    "# Fit the StandardScaler instance to the training data and then transform it\n",
    "# X_train is the feature matrix for the training set\n",
    "# The fit method computes the mean and standard deviation to be used for later scaling\n",
    "# The transform method performs standardization by centering and scaling\n",
    "X_train = scaler.fit_transform(X_train)\n",
    "\n",
    "# Transform the test data using the same StandardScaler instance\n",
    "# X_test is the feature matrix for the test set\n",
    "# Note: We only use transform() here, not fit_transform(). This is because we want to apply the same transformation to the test set that we applied to the training set\n",
    "X_test = scaler.transform(X_test)\n"
   ]
  },
  {
   "cell_type": "code",
   "execution_count": 20,
   "id": "c7bd939f",
   "metadata": {},
   "outputs": [
    {
     "data": {
      "text/plain": [
       "array([[-0.03449842,  0.26845438],\n",
       "       [ 0.06066963, -0.25929212],\n",
       "       [-1.65235532,  0.12185813],\n",
       "       [-0.98617895,  0.53232764],\n",
       "       [-1.36685117, -1.22682738],\n",
       "       [-0.51033869,  0.47368914],\n",
       "       [-1.55718727,  0.53232764],\n",
       "       [-0.8910109 ,  0.56164689],\n",
       "       [-1.74752338, -1.28546588],\n",
       "       [-0.60550674,  0.18049663],\n",
       "       [ 1.77369459, -0.28861137],\n",
       "       [-0.60550674, -0.05405737],\n",
       "       [-0.22483453, -1.40274288],\n",
       "       [ 2.05919875, -0.81635787],\n",
       "       [-1.08134701,  0.29777364],\n",
       "       [-1.84269143, -0.52316537],\n",
       "       [ 1.48819043,  1.00143564],\n",
       "       [-0.98617895,  0.59096614],\n",
       "       [-0.60550674,  0.03390038],\n",
       "       [-0.70067479,  0.29777364],\n",
       "       [-0.8910109 ,  0.26845438],\n",
       "       [-0.8910109 ,  0.44436989],\n",
       "       [ 0.34617379,  0.06321963],\n",
       "       [ 2.15436681, -1.05091188],\n",
       "       [ 0.82201406,  0.35641214],\n",
       "       [ 0.91718211, -1.05091188],\n",
       "       [-0.41517063, -0.02473812],\n",
       "       [-1.08134701, -1.60797763],\n",
       "       [-0.12966647,  2.17420565],\n",
       "       [-0.22483453, -0.93363487],\n",
       "       [-0.60550674, -1.52001988],\n",
       "       [ 1.39302238,  1.29462814],\n",
       "       [-0.32000258, -0.78703862],\n",
       "       [-1.17651506,  0.29777364],\n",
       "       [ 1.48819043,  0.06321963],\n",
       "       [ 0.72684601, -1.28546588],\n",
       "       [-0.03449842, -0.49384612],\n",
       "       [ 2.15436681,  0.94279714],\n",
       "       [-0.51033869,  1.38258589],\n",
       "       [ 0.44134185,  0.29777364],\n",
       "       [ 1.10751822, -0.99227337],\n",
       "       [ 0.91718211, -1.46138138],\n",
       "       [ 1.20268627, -0.99227337],\n",
       "       [-0.22483453,  0.20981588],\n",
       "       [-0.60550674, -0.34724987],\n",
       "       [ 0.44134185, -0.17133437],\n",
       "       [ 0.5365099 ,  1.7344169 ],\n",
       "       [ 0.72684601, -1.40274288],\n",
       "       [-0.79584285, -0.78703862],\n",
       "       [ 1.9640307 ,  0.73756239],\n",
       "       [ 0.34617379, -0.55248462],\n",
       "       [-0.22483453,  0.79620089],\n",
       "       [-0.79584285,  0.15117738],\n",
       "       [ 0.25100574, -0.37656912],\n",
       "       [ 0.34617379, -1.16818888],\n",
       "       [ 1.86886265,  0.12185813],\n",
       "       [ 0.72684601, -1.10955038],\n",
       "       [-0.41517063, -1.22682738],\n",
       "       [-0.22483453,  2.2621634 ],\n",
       "       [-0.22483453, -0.25929212],\n",
       "       [ 0.15583769,  0.09253888],\n",
       "       [ 1.10751822,  0.56164689],\n",
       "       [ 1.01235017, -1.16818888],\n",
       "       [ 1.29785433,  2.23284415],\n",
       "       [-0.98617895,  0.76688164],\n",
       "       [ 1.58335849,  1.00143564],\n",
       "       [-0.22483453, -1.25614663],\n",
       "       [ 0.34617379,  0.06321963],\n",
       "       [ 1.01235017, -1.19750813],\n",
       "       [ 0.82201406,  0.76688164],\n",
       "       [ 0.25100574, -0.25929212],\n",
       "       [-1.08134701,  0.47368914],\n",
       "       [-0.98617895, -0.34724987],\n",
       "       [-0.32000258,  0.06321963],\n",
       "       [ 1.9640307 , -0.93363487],\n",
       "       [ 0.91718211, -0.55248462],\n",
       "       [ 1.67852654,  1.61713989],\n",
       "       [-1.74752338, -1.43206213],\n",
       "       [ 1.29785433, -1.37342363],\n",
       "       [ 1.39302238,  2.35012115],\n",
       "       [-0.98617895, -1.46138138],\n",
       "       [ 0.91718211, -0.61112312],\n",
       "       [ 0.82201406,  1.38258589],\n",
       "       [-1.08134701, -1.02159262],\n",
       "       [-1.74752338, -1.31478513],\n",
       "       [-1.08134701, -1.10955038],\n",
       "       [-0.60550674,  0.56164689],\n",
       "       [ 1.20268627,  0.53232764],\n",
       "       [-1.46201922, -1.52001988],\n",
       "       [-0.22483453,  0.03390038],\n",
       "       [-0.32000258,  1.23598964],\n",
       "       [ 0.34617379,  0.26845438],\n",
       "       [ 0.15583769,  0.03390038],\n",
       "       [ 0.25100574,  0.15117738],\n",
       "       [-0.79584285, -0.25929212],\n",
       "       [-1.08134701,  0.06321963],\n",
       "       [-0.03449842,  1.9689709 ],\n",
       "       [-0.41517063, -0.28861137],\n",
       "       [-0.03449842, -0.52316537],\n",
       "       [-0.8910109 , -1.10955038],\n",
       "       [-0.70067479,  0.50300839],\n",
       "       [-0.12966647, -0.52316537],\n",
       "       [ 1.01235017,  0.12185813],\n",
       "       [-1.46201922, -0.20065362],\n",
       "       [-0.22483453,  0.06321963],\n",
       "       [-1.74752338, -1.49070063],\n",
       "       [-1.27168311, -1.10955038],\n",
       "       [-0.22483453, -0.37656912],\n",
       "       [ 0.82201406,  0.12185813],\n",
       "       [-0.12966647,  1.41190514],\n",
       "       [-1.27168311, -0.43520762],\n",
       "       [ 0.91718211,  1.08939339],\n",
       "       [ 0.44134185,  2.3208019 ],\n",
       "       [-0.12966647,  1.61713989],\n",
       "       [-0.22483453,  0.53232764],\n",
       "       [-0.60550674, -1.60797763],\n",
       "       [ 0.15583769,  1.88101315],\n",
       "       [-0.98617895,  0.56164689],\n",
       "       [-0.51033869,  1.47054364],\n",
       "       [-1.08134701,  0.41505064],\n",
       "       [-0.22483453,  0.26845438],\n",
       "       [ 0.44134185,  0.09253888],\n",
       "       [ 1.58335849,  1.11871264],\n",
       "       [ 0.44134185,  0.00458113],\n",
       "       [ 0.25100574,  0.06321963],\n",
       "       [-1.65235532, -0.99227337],\n",
       "       [-1.65235532,  0.35641214],\n",
       "       [-1.27168311, -0.43520762],\n",
       "       [-0.03449842,  0.00458113],\n",
       "       [-0.51033869,  0.88415864],\n",
       "       [-1.17651506,  0.26845438],\n",
       "       [-0.22483453,  0.06321963],\n",
       "       [-0.03449842, -1.08023113],\n",
       "       [ 0.15583769,  0.15117738],\n",
       "       [ 0.06066963, -0.43520762],\n",
       "       [-0.22483453, -0.66976162],\n",
       "       [-0.70067479, -0.22997287],\n",
       "       [ 1.9640307 ,  2.17420565],\n",
       "       [ 0.25100574,  0.03390038],\n",
       "       [-0.22483453,  0.15117738],\n",
       "       [ 0.06066963,  0.03390038],\n",
       "       [ 0.5365099 ,  1.8516939 ],\n",
       "       [-1.74752338,  0.00458113],\n",
       "       [-1.08134701, -0.78703862],\n",
       "       [-0.70067479,  1.08939339],\n",
       "       [ 0.25100574, -0.37656912],\n",
       "       [ 0.06066963,  1.26530889],\n",
       "       [-0.22483453,  0.15117738],\n",
       "       [-0.12966647,  0.15117738],\n",
       "       [-1.08134701,  0.29777364],\n",
       "       [ 0.44134185,  1.00143564],\n",
       "       [-0.70067479,  0.26845438],\n",
       "       [ 1.9640307 ,  0.91347789],\n",
       "       [-1.08134701, -1.57865838],\n",
       "       [ 1.10751822, -1.22682738],\n",
       "       [ 0.44134185, -0.46452687],\n",
       "       [-1.55718727, -1.57865838],\n",
       "       [ 1.01235017,  1.7930554 ],\n",
       "       [-0.51033869,  2.35012115],\n",
       "       [-0.22483453, -0.14201512],\n",
       "       [-0.41517063,  2.3208019 ],\n",
       "       [-0.70067479,  1.35326664],\n",
       "       [-0.98617895, -1.13886963],\n",
       "       [-0.79584285, -0.78703862],\n",
       "       [-0.03449842, -0.37656912],\n",
       "       [ 2.15436681,  1.11871264],\n",
       "       [-0.12966647, -0.46452687],\n",
       "       [-1.17651506,  0.59096614],\n",
       "       [-0.79584285, -0.66976162],\n",
       "       [ 2.15436681, -0.69908087],\n",
       "       [-1.27168311,  0.41505064],\n",
       "       [ 0.72684601,  1.7930554 ],\n",
       "       [ 1.01235017,  1.99829015],\n",
       "       [ 1.67852654,  1.76373615],\n",
       "       [-0.12966647, -0.58180387],\n",
       "       [ 0.25100574,  0.23913513],\n",
       "       [ 0.15583769, -0.31793062],\n",
       "       [-0.60550674,  0.12185813],\n",
       "       [ 1.39302238,  0.59096614],\n",
       "       [-0.22483453, -0.34724987],\n",
       "       [-1.65235532,  0.35641214],\n",
       "       [ 1.86886265, -0.28861137],\n",
       "       [ 0.06066963, -0.58180387],\n",
       "       [-0.79584285,  2.29148265],\n",
       "       [ 1.01235017, -1.02159262],\n",
       "       [ 0.44134185,  0.29777364],\n",
       "       [-0.22483453, -0.28861137],\n",
       "       [-0.32000258,  1.32394739],\n",
       "       [ 1.10751822,  0.53232764],\n",
       "       [-0.03449842,  0.12185813],\n",
       "       [ 0.25100574, -0.37656912],\n",
       "       [ 0.15583769,  0.26845438],\n",
       "       [-0.70067479,  1.9103324 ],\n",
       "       [-0.12966647,  0.85483939],\n",
       "       [ 0.44134185,  0.15117738],\n",
       "       [-0.12966647, -0.28861137],\n",
       "       [-1.65235532, -0.61112312],\n",
       "       [-0.22483453, -0.75771937],\n",
       "       [-1.36685117,  0.35641214],\n",
       "       [-0.22483453, -1.31478513],\n",
       "       [ 1.01235017, -0.84567712],\n",
       "       [ 1.20268627, -0.75771937],\n",
       "       [ 0.34617379,  0.06321963],\n",
       "       [ 0.06066963, -0.58180387],\n",
       "       [-0.51033869,  1.9103324 ],\n",
       "       [ 0.91718211,  1.26530889],\n",
       "       [-0.32000258, -1.31478513],\n",
       "       [ 0.82201406, -1.40274288],\n",
       "       [ 2.05919875, -1.19750813],\n",
       "       [ 1.48819043, -1.05091188],\n",
       "       [-1.46201922,  0.32709289],\n",
       "       [-0.41517063, -0.55248462],\n",
       "       [ 1.10751822,  0.47368914],\n",
       "       [ 0.5365099 ,  1.23598964],\n",
       "       [ 0.34617379, -0.28861137],\n",
       "       [-0.22483453, -1.37342363],\n",
       "       [-1.27168311, -1.37342363],\n",
       "       [ 0.15583769,  1.06007414],\n",
       "       [ 0.91718211, -1.37342363],\n",
       "       [-0.22483453, -0.43520762],\n",
       "       [-1.84269143, -0.75771937],\n",
       "       [-1.84269143,  0.35641214],\n",
       "       [ 0.34617379, -0.52316537],\n",
       "       [ 2.15436681, -0.81635787],\n",
       "       [-0.03449842,  0.67892389],\n",
       "       [-0.98617895, -0.37656912],\n",
       "       [ 0.72684601, -1.40274288],\n",
       "       [-0.70067479, -1.54933913],\n",
       "       [-1.84269143,  0.47368914],\n",
       "       [ 1.10751822,  0.12185813],\n",
       "       [-1.36685117, -1.46138138],\n",
       "       [ 0.25100574, -0.14201512],\n",
       "       [ 0.82201406,  0.26845438],\n",
       "       [ 0.44134185, -0.46452687],\n",
       "       [-0.03449842,  0.29777364],\n",
       "       [-0.22483453,  1.11871264],\n",
       "       [ 0.25100574,  1.08939339],\n",
       "       [-1.08134701, -1.54933913],\n",
       "       [-0.60550674, -0.11269587],\n",
       "       [ 0.34617379,  0.50300839],\n",
       "       [ 0.34617379,  0.29777364],\n",
       "       [ 0.91718211,  2.17420565],\n",
       "       [ 0.06066963, -0.25929212],\n",
       "       [-1.08134701, -0.52316537],\n",
       "       [-1.08134701, -1.60797763],\n",
       "       [ 0.06066963,  1.23598964],\n",
       "       [-0.60550674,  1.41190514],\n",
       "       [-0.22483453, -0.58180387],\n",
       "       [-0.8910109 , -0.43520762],\n",
       "       [-0.70067479,  0.56164689],\n",
       "       [ 2.05919875,  0.18049663],\n",
       "       [ 0.15583769,  1.88101315],\n",
       "       [-0.51033869,  1.38258589],\n",
       "       [ 1.29785433,  1.88101315],\n",
       "       [ 0.34617379, -0.20065362],\n",
       "       [-1.74752338,  0.18049663],\n",
       "       [-1.55718727, -0.05405737],\n",
       "       [-0.8910109 ,  0.41505064],\n",
       "       [ 0.63167795, -0.90431562],\n",
       "       [-0.03449842,  0.23913513],\n",
       "       [ 1.01235017,  2.0862479 ],\n",
       "       [ 0.34617379,  0.03390038],\n",
       "       [-1.36685117, -0.20065362],\n",
       "       [-1.27168311,  0.56164689],\n",
       "       [ 1.01235017, -1.08023113],\n",
       "       [-1.27168311, -1.25614663],\n",
       "       [ 0.25100574, -0.31793062],\n",
       "       [ 0.82201406, -1.10955038],\n",
       "       [ 1.20268627, -1.46138138],\n",
       "       [ 1.10751822, -0.14201512],\n",
       "       [-0.51033869, -1.52001988],\n",
       "       [ 2.15436681, -0.81635787],\n",
       "       [ 0.34617379, -0.52316537],\n",
       "       [-0.79584285,  0.38573139],\n",
       "       [ 1.10751822, -0.90431562],\n",
       "       [-0.79584285, -1.22682738],\n",
       "       [ 0.82201406, -1.22682738],\n",
       "       [ 1.39302238, -1.43206213],\n",
       "       [ 1.67852654, -0.90431562],\n",
       "       [ 1.10751822,  2.0862479 ],\n",
       "       [-0.98617895,  1.9689709 ],\n",
       "       [ 1.48819043,  0.35641214],\n",
       "       [-1.74752338,  0.44436989],\n",
       "       [-0.22483453, -0.58180387],\n",
       "       [-1.08134701, -1.16818888],\n",
       "       [-0.03449842, -0.22997287],\n",
       "       [ 0.06066963, -0.14201512],\n",
       "       [ 0.15583769,  0.20981588],\n",
       "       [-1.84269143, -0.05405737],\n",
       "       [ 1.77369459,  1.00143564],\n",
       "       [-0.51033869, -1.52001988],\n",
       "       [-1.46201922, -1.25614663],\n",
       "       [ 0.63167795,  2.0276094 ],\n",
       "       [-0.60550674, -1.05091188],\n",
       "       [-1.17651506, -1.40274288],\n",
       "       [ 1.86886265, -1.08023113],\n",
       "       [-0.22483453, -0.90431562],\n",
       "       [-0.8910109 , -0.75771937],\n",
       "       [-1.36685117, -0.11269587],\n",
       "       [ 0.25100574,  0.15117738],\n",
       "       [ 0.44134185,  0.26845438],\n",
       "       [ 0.91718211,  1.03075489],\n",
       "       [-0.98617895, -0.34724987],\n",
       "       [ 1.48819043,  2.1448864 ],\n",
       "       [ 1.58335849,  0.00458113],\n",
       "       [ 0.91718211, -1.31478513],\n",
       "       [ 2.15436681,  0.38573139],\n",
       "       [-0.98617895, -1.54933913],\n",
       "       [ 0.34617379,  0.06321963],\n",
       "       [-0.41517063,  1.26530889],\n",
       "       [-1.17651506, -1.08023113],\n",
       "       [ 0.82201406, -0.84567712],\n",
       "       [-0.22483453,  0.62028539],\n",
       "       [ 0.82201406, -0.31793062],\n",
       "       [-0.22483453, -0.49384612],\n",
       "       [ 1.58335849, -1.28546588],\n",
       "       [ 1.39302238,  1.99829015],\n",
       "       [-0.79584285,  0.29777364],\n",
       "       [ 0.15583769, -0.25929212],\n",
       "       [ 0.44134185,  1.11871264]])"
      ]
     },
     "execution_count": 20,
     "metadata": {},
     "output_type": "execute_result"
    }
   ],
   "source": [
    "X_train"
   ]
  },
  {
   "cell_type": "code",
   "execution_count": 21,
   "id": "6f16dd58",
   "metadata": {},
   "outputs": [
    {
     "data": {
      "text/plain": [
       "array([[ 0.44134185, -0.14201512],\n",
       "       [-0.03449842,  0.03390038],\n",
       "       [ 0.44134185,  0.59096614],\n",
       "       [ 0.91718211, -0.66976162],\n",
       "       [-1.36685117, -0.64044237],\n",
       "       [ 1.9640307 , -1.37342363],\n",
       "       [ 0.15583769, -0.81635787],\n",
       "       [ 0.91718211, -0.78703862],\n",
       "       [-0.22483453, -0.31793062],\n",
       "       [ 0.15583769,  0.03390038],\n",
       "       [ 0.34617379, -0.31793062],\n",
       "       [-1.08134701,  1.41190514],\n",
       "       [ 2.05919875,  1.76373615],\n",
       "       [ 1.86886265, -1.28546588],\n",
       "       [ 0.82201406, -1.37342363],\n",
       "       [ 0.06066963,  0.03390038],\n",
       "       [-0.8910109 ,  0.50300839],\n",
       "       [-1.27168311, -0.34724987],\n",
       "       [-0.70067479, -1.60797763],\n",
       "       [ 0.15583769,  1.52918214],\n",
       "       [-0.98617895, -0.46452687],\n",
       "       [-1.55718727,  0.06321963],\n",
       "       [-0.03449842,  0.15117738],\n",
       "       [ 2.05919875,  0.53232764],\n",
       "       [ 1.9640307 , -0.66976162],\n",
       "       [-0.03449842, -0.43520762],\n",
       "       [ 0.06066963, -0.31793062],\n",
       "       [-0.03449842,  2.23284415],\n",
       "       [ 1.01235017, -1.08023113],\n",
       "       [-0.12966647, -1.08023113],\n",
       "       [-0.22483453, -1.46138138],\n",
       "       [-0.98617895,  0.41505064],\n",
       "       [-0.41517063, -0.78703862],\n",
       "       [ 1.10751822, -1.22682738],\n",
       "       [ 1.01235017,  1.44122439],\n",
       "       [-0.32000258, -0.78703862],\n",
       "       [ 0.82201406,  0.53232764],\n",
       "       [ 0.25100574,  2.11556715],\n",
       "       [ 0.25100574, -0.66976162],\n",
       "       [-0.8910109 , -0.31793062],\n",
       "       [ 0.34617379, -0.72840012],\n",
       "       [ 0.72684601, -0.72840012],\n",
       "       [-1.27168311, -1.49070063],\n",
       "       [-0.70067479, -0.61112312],\n",
       "       [-0.12966647, -0.20065362],\n",
       "       [-0.41517063, -1.13886963],\n",
       "       [ 1.01235017,  1.88101315],\n",
       "       [ 0.15583769, -0.81635787],\n",
       "       [-0.03449842,  0.29777364],\n",
       "       [-1.65235532,  0.47368914],\n",
       "       [-0.8910109 ,  1.55850139],\n",
       "       [-0.12966647,  1.64645915],\n",
       "       [ 0.91718211, -0.58180387],\n",
       "       [-0.22483453,  0.09253888],\n",
       "       [ 0.44134185, -0.49384612],\n",
       "       [-0.03449842,  0.20981588],\n",
       "       [ 1.01235017,  0.59096614],\n",
       "       [-1.08134701,  0.32709289],\n",
       "       [ 1.39302238, -0.93363487],\n",
       "       [ 2.05919875,  2.1448864 ],\n",
       "       [-1.17651506,  0.50300839],\n",
       "       [ 1.01235017,  0.76688164],\n",
       "       [ 0.06066963, -0.55248462],\n",
       "       [-0.03449842,  2.17420565],\n",
       "       [ 1.86886265,  1.52918214],\n",
       "       [ 0.72684601,  0.26845438],\n",
       "       [ 0.44134185, -0.14201512],\n",
       "       [ 1.77369459,  1.8516939 ],\n",
       "       [-1.65235532, -1.37342363],\n",
       "       [ 0.06066963,  0.29777364],\n",
       "       [-0.03449842,  0.06321963],\n",
       "       [ 0.15583769,  0.76688164],\n",
       "       [-0.8910109 , -0.96295412],\n",
       "       [-0.8910109 , -0.31793062],\n",
       "       [-0.79584285,  0.38573139],\n",
       "       [ 0.25100574, -0.28861137],\n",
       "       [-0.41517063, -0.84567712],\n",
       "       [-1.46201922, -0.43520762],\n",
       "       [ 2.05919875,  0.38573139],\n",
       "       [ 0.91718211, -1.16818888]])"
      ]
     },
     "execution_count": 21,
     "metadata": {},
     "output_type": "execute_result"
    }
   ],
   "source": [
    "X_test"
   ]
  },
  {
   "cell_type": "code",
   "execution_count": 22,
   "id": "dae3c9fd",
   "metadata": {},
   "outputs": [
    {
     "data": {
      "text/plain": [
       "LogisticRegression()"
      ]
     },
     "execution_count": 22,
     "metadata": {},
     "output_type": "execute_result"
    }
   ],
   "source": [
    "# Create an instance of the LogisticRegression class\n",
    "logClassifier = LogisticRegression()\n",
    "\n",
    "# Fit the model to the training data\n",
    "# X_train is the feature matrix for the training set\n",
    "# y_train is the target vector for the training set\n",
    "logClassifier.fit(X_train, y_train) \n"
   ]
  },
  {
   "cell_type": "code",
   "execution_count": 23,
   "id": "a92c8d7b",
   "metadata": {},
   "outputs": [
    {
     "data": {
      "text/plain": [
       "array([0, 0, 1, 1, 0, 1, 0, 1, 0, 0, 0, 0, 1, 1, 0, 0, 0, 0, 0, 1, 0, 0,\n",
       "       0, 1, 1, 0, 0, 1, 0, 0, 0, 0, 0, 1, 1, 0, 1, 1, 0, 0, 0, 0, 0, 0,\n",
       "       0, 0, 1, 0, 0, 0, 0, 1, 1, 0, 0, 0, 1, 0, 1, 1, 0, 1, 0, 1, 1, 1,\n",
       "       0, 1, 0, 0, 0, 1, 0, 0, 0, 0, 0, 0, 1, 0], dtype=int64)"
      ]
     },
     "execution_count": 23,
     "metadata": {},
     "output_type": "execute_result"
    }
   ],
   "source": [
    "y_pred_test = logClassifier.predict(X_test)\n",
    "y_pred_test"
   ]
  },
  {
   "cell_type": "code",
   "execution_count": 24,
   "id": "8dd00fb9",
   "metadata": {},
   "outputs": [
    {
     "data": {
      "text/plain": [
       "array([[48,  4],\n",
       "       [ 5, 23]], dtype=int64)"
      ]
     },
     "execution_count": 24,
     "metadata": {},
     "output_type": "execute_result"
    }
   ],
   "source": [
    "confusion_matrix(y_test, y_pred_test)"
   ]
  },
  {
   "cell_type": "code",
   "execution_count": 25,
   "id": "356ed7ca",
   "metadata": {},
   "outputs": [
    {
     "name": "stdout",
     "output_type": "stream",
     "text": [
      "              precision    recall  f1-score   support\n",
      "\n",
      "           0       0.91      0.92      0.91        52\n",
      "           1       0.85      0.82      0.84        28\n",
      "\n",
      "    accuracy                           0.89        80\n",
      "   macro avg       0.88      0.87      0.88        80\n",
      "weighted avg       0.89      0.89      0.89        80\n",
      "\n"
     ]
    }
   ],
   "source": [
    "print(classification_report(y_test,y_pred_test))"
   ]
  },
  {
   "cell_type": "code",
   "execution_count": 26,
   "id": "e61d5c4a",
   "metadata": {},
   "outputs": [
    {
     "name": "stdout",
     "output_type": "stream",
     "text": [
      "Accuracy :  0.8875\n"
     ]
    }
   ],
   "source": [
    "print(\"Accuracy : \", accuracy_score(y_test, y_pred_test))"
   ]
  },
  {
   "cell_type": "code",
   "execution_count": null,
   "id": "b8e194f2",
   "metadata": {},
   "outputs": [],
   "source": []
  }
 ],
 "metadata": {
  "kernelspec": {
   "display_name": "Python 3 (ipykernel)",
   "language": "python",
   "name": "python3"
  },
  "language_info": {
   "codemirror_mode": {
    "name": "ipython",
    "version": 3
   },
   "file_extension": ".py",
   "mimetype": "text/x-python",
   "name": "python",
   "nbconvert_exporter": "python",
   "pygments_lexer": "ipython3",
   "version": "3.9.12"
  }
 },
 "nbformat": 4,
 "nbformat_minor": 5
}
